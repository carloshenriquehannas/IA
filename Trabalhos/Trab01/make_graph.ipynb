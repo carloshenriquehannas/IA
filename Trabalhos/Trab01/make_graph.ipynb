{
  "cells": [
    {
      "cell_type": "code",
      "execution_count": null,
      "metadata": {
        "colab": {
          "base_uri": "https://localhost:8080/",
          "height": 534
        },
        "id": "uUx3zT4PmAvm",
        "outputId": "e25370f1-662d-4a29-bf32-3e44989d9562"
      },
      "outputs": [],
      "source": [
        "import pandas as pd\n",
        "import networkx as nx\n",
        "import matplotlib.pyplot as plt\n",
        "\n",
        "df = pd.read_csv('graph.csv', index_col=0)\n",
        "\n",
        "G = nx.Graph()\n",
        "\n",
        "G.add_nodes_from(df.index)\n",
        "G.add_nodes_from(df.columns)\n",
        "\n",
        "for origem in df.index:\n",
        "    for destino in df.columns:\n",
        "        peso = df.loc[origem, destino]\n",
        "        if not pd.isna(peso):\n",
        "            G.add_edge(origem, destino, weight=peso)\n",
        "\n",
        "pos = nx.spring_layout(G, seed=60000)\n",
        "\n",
        "cores = ['red', 'blue', 'green', 'purple', 'orange', 'cyan', 'magenta']\n",
        "\n",
        "nx.draw(G, pos, with_labels=True, node_size=100, node_color='gray', font_size=6, font_weight='normal', edge_color=cores)\n",
        "\n",
        "plt.figure(figsize=(20, 8))\n",
        "\n",
        "plt.show()\n"
      ]
    },
    {
      "cell_type": "code",
      "execution_count": null,
      "metadata": {
        "id": "HSChIVIVUBUM"
      },
      "outputs": [],
      "source": []
    }
  ],
  "metadata": {
    "colab": {
      "provenance": []
    },
    "kernelspec": {
      "display_name": "Python 3",
      "name": "python3"
    },
    "language_info": {
      "name": "python"
    }
  },
  "nbformat": 4,
  "nbformat_minor": 0
}
